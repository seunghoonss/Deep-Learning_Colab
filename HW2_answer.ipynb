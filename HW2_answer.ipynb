{
  "nbformat": 4,
  "nbformat_minor": 0,
  "metadata": {
    "kernelspec": {
      "display_name": "Python 3",
      "language": "python",
      "name": "python3"
    },
    "language_info": {
      "codemirror_mode": {
        "name": "ipython",
        "version": 3
      },
      "file_extension": ".py",
      "mimetype": "text/x-python",
      "name": "python",
      "nbconvert_exporter": "python",
      "pygments_lexer": "ipython3",
      "version": "3.7.7"
    },
    "colab": {
      "name": "HW2_answer.ipynb",
      "provenance": [],
      "collapsed_sections": [],
      "include_colab_link": true
    }
  },
  "cells": [
    {
      "cell_type": "markdown",
      "metadata": {
        "id": "view-in-github",
        "colab_type": "text"
      },
      "source": [
        "<a href=\"https://colab.research.google.com/github/seunghoonss/Deep-Learning_Colab/blob/main/HW2_answer.ipynb\" target=\"_parent\"><img src=\"https://colab.research.google.com/assets/colab-badge.svg\" alt=\"Open In Colab\"/></a>"
      ]
    },
    {
      "cell_type": "code",
      "metadata": {
        "id": "soMNoTUvD_2-"
      },
      "source": [
        "# 인공지능기초코딩및실습 #\n",
        "# 2주차 과제\n",
        "\n",
        "ID   = \n",
        "NAME = "
      ],
      "execution_count": null,
      "outputs": []
    },
    {
      "cell_type": "markdown",
      "metadata": {
        "id": "qeHCX-kGD_3A"
      },
      "source": [
        "#**1번** 반지름이 $r$인 구의 부피는 $V=\\frac{4}{3}\\pi r^3$입니다.   \n",
        "사용자로부터 $r$을 입력 받아 $V$를 구하는 코드를 작성하세요.  \n",
        "단, $\\pi=3.14$로 가정합니다.  \n",
        "\n",
        "**실행 결과 예시**  \n",
        "`반지름을 입력하세요: 3  \n",
        "구의 부피=113.03999999999999`"
      ]
    },
    {
      "cell_type": "code",
      "metadata": {
        "colab": {
          "base_uri": "https://localhost:8080/"
        },
        "id": "TpRPLAQWD_3A",
        "outputId": "924c78d3-19df-4944-c913-89b6534426d3"
      },
      "source": [
        "pi = 3.14\n",
        "\n",
        "r = float(input(\"반지름을 입력하세요: \"))\n",
        "V = 4/3 * pi * r ** 3\n",
        "\n",
        "print(f\"구의 부피={V}\")"
      ],
      "execution_count": null,
      "outputs": [
        {
          "output_type": "stream",
          "text": [
            "반지름을 입력하세요: 3\n",
            "구의 부피=113.03999999999999\n"
          ],
          "name": "stdout"
        }
      ]
    },
    {
      "cell_type": "markdown",
      "metadata": {
        "id": "tExuoVzLD_3B"
      },
      "source": [
        "#**2번** 국, 영, 수 성적을 입력 받아 평균을 계산하는 코드를 작성하세요.  \n",
        "**힌트:** `Kor = int(input('국어 성적 = '))` 를 입력하면 국어 성적을 입력 받을 수 있습니다.  \n",
        "  \n",
        "**실행 결과 예시**  \n",
        "`국어 성적 = 90\n",
        "수학 성적 = 80\n",
        "영어 성적 = 88\n",
        "평균은 86.0 점입니다.`"
      ]
    },
    {
      "cell_type": "code",
      "metadata": {
        "id": "8_7qcybwD_3B",
        "outputId": "52f8d155-ab13-47a1-ddb7-e462cf8bf1be"
      },
      "source": [
        "Kor = int(input('국어 성적 = '))\n",
        "Math = int(input('수학 성적 = '))\n",
        "Eng = int(input('영어 성적 = '))\n",
        "\n",
        "Average = (Kor + Math + Eng) / 3\n",
        "\n",
        "print(f'평균은 {Average} 점입니다.')"
      ],
      "execution_count": null,
      "outputs": [
        {
          "output_type": "stream",
          "text": [
            "국어 성적 = 90\n",
            "수학 성적 = 80\n",
            "영어 성적 = 88\n",
            "평균은 86.0 점입니다.\n"
          ],
          "name": "stdout"
        }
      ]
    },
    {
      "cell_type": "markdown",
      "metadata": {
        "id": "OArOvCDsD_3B"
      },
      "source": [
        "#**3번** 다음 주민등록 번호에서 성별을 나타내는 숫자를 출력해 보세요.  \n",
        "871116-1001234  \n",
        "\n",
        "**실행 결과 예시**  \n",
        "`1`"
      ]
    },
    {
      "cell_type": "code",
      "metadata": {
        "id": "vKa1k-ALD_3B",
        "outputId": "500a043c-9404-4819-bc79-57f2f3a55dc0"
      },
      "source": [
        "id = '871116-1001234'\n",
        "\n",
        "print(id[7])"
      ],
      "execution_count": null,
      "outputs": [
        {
          "output_type": "stream",
          "text": [
            "1\n"
          ],
          "name": "stdout"
        }
      ]
    },
    {
      "cell_type": "markdown",
      "metadata": {
        "id": "ABxnHdY5D_3C"
      },
      "source": [
        "#**4번** 문자열 슬라이싱을 이용하여 주민등록번호를 -를 기준으로 나누어 출력하세요.  \n",
        "\n",
        "**실행 결과 예시**  \n",
        "`871116\n",
        "1001234`"
      ]
    },
    {
      "cell_type": "code",
      "metadata": {
        "id": "L__UGmP-D_3C",
        "outputId": "b39a6150-8791-42b3-e2bc-cab895b45daf"
      },
      "source": [
        "id = '871116-1001234'\n",
        "\n",
        "id1 = id[:6]\n",
        "id2 = id[7:]\n",
        "\n",
        "print(id1)\n",
        "print(id2)"
      ],
      "execution_count": null,
      "outputs": [
        {
          "output_type": "stream",
          "text": [
            "871116\n",
            "1001234\n"
          ],
          "name": "stdout"
        }
      ]
    },
    {
      "cell_type": "markdown",
      "metadata": {
        "id": "4rreuodhD_3C"
      },
      "source": [
        "#**5번**\n",
        "list [1, 3, 5, 4, 2]를 [5, 4, 3, 2, 1]로 만들어 보세요.  \n",
        "list의 내장함수를 사용합니다.  \n",
        "\n",
        "**실행 결과 예시**  \n",
        "`[5, 4, 3, 2, 1]`"
      ]
    },
    {
      "cell_type": "code",
      "metadata": {
        "id": "SHFJmTZID_3C",
        "outputId": "851e60d2-5fd1-42db-c383-6e4e1e7f9365"
      },
      "source": [
        "l = [1, 3, 5, 4, 2]\n",
        "l.sort()\n",
        "l.reverse()\n",
        "print(l)"
      ],
      "execution_count": null,
      "outputs": [
        {
          "output_type": "stream",
          "text": [
            "[5, 4, 3, 2, 1]\n"
          ],
          "name": "stdout"
        }
      ]
    },
    {
      "cell_type": "markdown",
      "metadata": {
        "id": "7xjL-fAeD_3D"
      },
      "source": [
        "#**6번**\n",
        "다음 list는 순서대로 사람의 이름, 전화번호, 나이를 담고 있다.  \n",
        "`kim = ['Hansol', '010-4629-1615', 35]`  \n",
        "문자열 포멧팅을 이용하여 다음과 같이 출력되도록 코드를 작성하세요.  \n",
        "`Name: Hansol  \n",
        "Phone: 010-4629-1615  \n",
        "Age: 35`"
      ]
    },
    {
      "cell_type": "code",
      "metadata": {
        "id": "7DjMCZEnD_3D",
        "outputId": "981ce40b-d0b1-4fbe-e76d-447a9237522a"
      },
      "source": [
        "kim = ['Hansol', '010-4629-1615', 35]\n",
        "\n",
        "# % 이용\n",
        "str1 = 'Name: %s\\nPhone: %s\\nAge: %d\\n' % (kim[0], kim[1], kim[2])\n",
        "\n",
        "# format 함수 이용\n",
        "str2 = 'Name: {0}\\nPhone: {1}\\nAge: {2}\\n'.format(kim[0], kim[1], kim[2])\n",
        "\n",
        "# f이용\n",
        "str3 = f'Name: {kim[0]}\\nPhone: {kim[1]}\\nAge: {kim[2]}\\n'\n",
        "\n",
        "print(str1)\n",
        "print(str2)\n",
        "print(str3)"
      ],
      "execution_count": null,
      "outputs": [
        {
          "output_type": "stream",
          "text": [
            "Name: Hansol\n",
            "Phone: 010-4629-1615\n",
            "Age: 35\n",
            "\n",
            "Name: Hansol\n",
            "Phone: 010-4629-1615\n",
            "Age: 35\n",
            "\n",
            "Name: Hansol\n",
            "Phone: 010-4629-1615\n",
            "Age: 35\n",
            "\n"
          ],
          "name": "stdout"
        }
      ]
    },
    {
      "cell_type": "markdown",
      "metadata": {
        "id": "JfmI7QM4D_3D"
      },
      "source": [
        "#**7번**\n",
        "다음 코드를 보고 실행 결과를 예측하고 그렇게 나오는 이유를 설명하세요."
      ]
    },
    {
      "cell_type": "code",
      "metadata": {
        "id": "WhSqD0UoD_3D"
      },
      "source": [
        "a = b = [1, 2, 3]\n",
        "a[1] = 4\n",
        "print(b)\n",
        "\n",
        "# 이유는? "
      ],
      "execution_count": null,
      "outputs": []
    },
    {
      "cell_type": "markdown",
      "metadata": {
        "id": "2CdvVoVBD_3E"
      },
      "source": [
        "**수강 및 과제 수행 소감을 적어주세요**"
      ]
    },
    {
      "cell_type": "code",
      "metadata": {
        "id": "N1Xk7GqHD_3E"
      },
      "source": [
        ""
      ],
      "execution_count": null,
      "outputs": []
    }
  ]
}