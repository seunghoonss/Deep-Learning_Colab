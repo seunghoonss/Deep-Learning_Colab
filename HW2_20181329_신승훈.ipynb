{
  "nbformat": 4,
  "nbformat_minor": 0,
  "metadata": {
    "kernelspec": {
      "display_name": "Python 3",
      "language": "python",
      "name": "python3"
    },
    "language_info": {
      "codemirror_mode": {
        "name": "ipython",
        "version": 3
      },
      "file_extension": ".py",
      "mimetype": "text/x-python",
      "name": "python",
      "nbconvert_exporter": "python",
      "pygments_lexer": "ipython3",
      "version": "3.7.7"
    },
    "colab": {
      "name": "HW2_20181329_신승훈.ipynb",
      "provenance": [],
      "collapsed_sections": [],
      "include_colab_link": true
    }
  },
  "cells": [
    {
      "cell_type": "markdown",
      "metadata": {
        "id": "view-in-github",
        "colab_type": "text"
      },
      "source": [
        "<a href=\"https://colab.research.google.com/github/seunghoonss/Deep-Learning_Colab/blob/main/HW2_20181329_%EC%8B%A0%EC%8A%B9%ED%9B%88.ipynb\" target=\"_parent\"><img src=\"https://colab.research.google.com/assets/colab-badge.svg\" alt=\"Open In Colab\"/></a>"
      ]
    },
    {
      "cell_type": "code",
      "metadata": {
        "id": "ThOZj68P9QoR"
      },
      "source": [
        "# 인공지능기초코딩및실습 #\n",
        "# 2주차 과제\n",
        "\n",
        "ID   = 20181329\n",
        "NAME = 신승훈"
      ],
      "execution_count": null,
      "outputs": []
    },
    {
      "cell_type": "markdown",
      "metadata": {
        "id": "TY985v6g9QoV"
      },
      "source": [
        "#**1번** 반지름이 $r$인 구의 부피는 $V=\\frac{4}{3}\\pi r^2$입니다.   \n",
        "사용자로부터 $r$을 입력 받아 $V$를 구하는 코드를 작성하세요.  \n",
        "단, $\\pi=3.14$로 가정합니다.  \n",
        "\n",
        "**실행 결과 예시**  \n",
        "`반지름을 입력하세요: 3`  \n",
        "`구의 부피=37.68`"
      ]
    },
    {
      "cell_type": "code",
      "metadata": {
        "id": "0aTuo6wI9QoW",
        "colab": {
          "base_uri": "https://localhost:8080/"
        },
        "outputId": "593b8509-c607-4c9b-9ef7-131c661ee0f5"
      },
      "source": [
        "pi = 3.14 # 변수 pi는 3.14로 정의한다.\n",
        "\n",
        "r = float(input(\"반지름을 입력하세요:  \")) # 반지름을 입력 받는 명령어들을 적은 코드이다.\n",
        "V = 4 / 3 * pi * r * r # 부피를 입력 받는 연산식이다.\n",
        "\n",
        "print(\"구의 부피=%4.2f\" %V) # 문자열 포멧팅을 이용하여 문자 대입하여 구의부피 값을 출력한다."
      ],
      "execution_count": null,
      "outputs": [
        {
          "output_type": "stream",
          "text": [
            "반지름을 입력하세요:  3\n",
            "구의 부피=37.68\n"
          ],
          "name": "stdout"
        }
      ]
    },
    {
      "cell_type": "markdown",
      "metadata": {
        "id": "p8GWlzR59QoW"
      },
      "source": [
        "#**2번** 국, 영, 수 성적을 입력 받아 평균을 계산하는 코드를 작성하세요.  \n",
        "**힌트:** `Kor = int(input('국어 성적 = '))` 를 입력하면 국어 성적을 입력 받을 수 있습니다.  \n",
        "  \n",
        "**실행 결과 예시**  \n",
        "`국어 성적 = 90`  \n",
        "`수학 성적 = 80`  \n",
        "`영어 성적 = 88`  \n",
        "`평균은 86.0 점입니다.`"
      ]
    },
    {
      "cell_type": "code",
      "metadata": {
        "id": "Q64jxfi99QoX",
        "colab": {
          "base_uri": "https://localhost:8080/"
        },
        "outputId": "6ea8c8fd-d746-4fc7-daf3-f1ee555bbac8"
      },
      "source": [
        "Kor =  int(input(\"국어성적 = \")) # Kor를 입력 받는 명렁어들을 적은 코드이다.\n",
        "Math = int(input(\"수학성정 = \")) # Math를 입력 받는 명렁어들을 적은 코드이다.\n",
        "Eng =  int(input(\"영어성적 = \")) # Eng를 입력 받는 명령어들을 적은 코드이다.\n",
        "\n",
        "Average = (Kor + Math + Eng) / 3  # Average를 입력 받는 연산식이다.\n",
        "\n",
        "print(\"평균은 %3.1f 입니다\" %Average) # 문자열 포멧팅을 이용하여 문자열 대입하여 평균을 출력한다."
      ],
      "execution_count": null,
      "outputs": [
        {
          "output_type": "stream",
          "text": [
            "국어성적 = 90\n",
            "수학성정 = 80\n",
            "영어성적 = 88\n",
            "평균은 86.0 입니다\n"
          ],
          "name": "stdout"
        }
      ]
    },
    {
      "cell_type": "markdown",
      "metadata": {
        "id": "23XXHxOo9QoX"
      },
      "source": [
        "#**3번** 다음 주민등록 번호에서 성별을 나타내는 숫자를 출력해 보세요.  \n",
        "871116-1001234  \n",
        "\n",
        "**실행 결과 예시**  \n",
        "`1`"
      ]
    },
    {
      "cell_type": "code",
      "metadata": {
        "id": "4Vn6kF5-9QoX",
        "colab": {
          "base_uri": "https://localhost:8080/"
        },
        "outputId": "39469c03-9fe2-4ba9-ba61-3909eee611c1"
      },
      "source": [
        "id = '871116-1001234' # 변수 id는 '87116-1001234'로 정의한다.\n",
        "\n",
        "print(id[7]) # 변수 id의 7번째 문자를 출력한다."
      ],
      "execution_count": null,
      "outputs": [
        {
          "output_type": "stream",
          "text": [
            "1\n"
          ],
          "name": "stdout"
        }
      ]
    },
    {
      "cell_type": "markdown",
      "metadata": {
        "id": "JMhZ76Ah9QoX"
      },
      "source": [
        "#**4번** 문자열 슬라이싱을 이용하여 주민등록번호를 -를 기준으로 나누어 출력하세요.  \n",
        "\n",
        "**실행 결과 예시**  \n",
        "`871116`  \n",
        "`1001234`"
      ]
    },
    {
      "cell_type": "code",
      "metadata": {
        "id": "7CKRDkTO9QoY",
        "colab": {
          "base_uri": "https://localhost:8080/"
        },
        "outputId": "89594322-5cfe-46f8-fac6-07b068aae608"
      },
      "source": [
        "id = '871116-1001234' # 변수 id는 '87116-1001234'로 정의한다.\n",
        "\n",
        "id1 = id[:7] # 변수 id의 처음부터 6번째까지 문자를 id1로 정의한다.\n",
        "id2 = id[7:] # 변수 id의 7번째부터 끝까지 문자를 id2로 정의한다.\n",
        "\n",
        "print(id1[0:6]) # 변수 id1의 처음부터 5번째까지 문자를 출력한다.\n",
        "print(id2[0:7]) # 변수 id2의 처음부터 6번째까지 문자를 출력한다."
      ],
      "execution_count": null,
      "outputs": [
        {
          "output_type": "stream",
          "text": [
            "871116\n",
            "1001234\n"
          ],
          "name": "stdout"
        }
      ]
    },
    {
      "cell_type": "markdown",
      "metadata": {
        "id": "EpROuVxf9QoY"
      },
      "source": [
        "#**5번**\n",
        "list [1, 3, 5, 4, 2]를 [5, 4, 3, 2, 1]로 만들어 보세요.  \n",
        "list의 내장함수를 사용합니다.  \n",
        "\n",
        "**실행 결과 예시**  \n",
        "`[5, 4, 3, 2, 1]`"
      ]
    },
    {
      "cell_type": "code",
      "metadata": {
        "id": "F3Ti7iLA9QoY",
        "colab": {
          "base_uri": "https://localhost:8080/"
        },
        "outputId": "34fd7ef5-dde9-4a52-cb14-6f8359673d66"
      },
      "source": [
        "l = [1, 3, 5, 4, 2] # 정수를 원소로 가지는 list 이다.\n",
        "l.sort() # list 내장함수 sort()함수를 적은 코드이다.  \n",
        "l.reverse() # list 내장함수 reverse()함수를 적은 코드이다.\n",
        "print(l) # list I를 출력한다."
      ],
      "execution_count": null,
      "outputs": [
        {
          "output_type": "stream",
          "text": [
            "[5, 4, 3, 2, 1]\n"
          ],
          "name": "stdout"
        }
      ]
    },
    {
      "cell_type": "markdown",
      "metadata": {
        "id": "FfaOnOTe9QoY"
      },
      "source": [
        "#**6번**\n",
        "다음 list는 순서대로 사람의 이름, 전화번호, 나이를 담고 있다.  \n",
        "`kim = ['Hansol', '010-4629-1615', 35]`  \n",
        "문자열 포멧팅을 이용하여 다음과 같이 출력되도록 코드를 작성하세요.  \n",
        "`Name: Hansol  `  \n",
        "`Phone: 010-4629-1615  `  \n",
        "`Age: 35`"
      ]
    },
    {
      "cell_type": "code",
      "metadata": {
        "id": "DrK5tBEh9QoY",
        "colab": {
          "base_uri": "https://localhost:8080/"
        },
        "outputId": "6e4fb13c-39a2-4c63-acfa-23cfef3be5a9"
      },
      "source": [
        "kim = ['Hansol', '010-4629-1615', 35] # 정수와 문자열을 혼합해 가지는 list 이다.\n",
        "\n",
        "# % 이용\n",
        "str1 = \"Name: %s\\nPhone: %s\\nAge: %d\" % (kim[0], kim[1], kim[2]) # 문자열 포멧팅(\"%\" %)을 이용하여 3개 이상의 값(문자열, 문자열, 정수)을 순서에 맞게 인덱싱하여 넣는다. \n",
        "\n",
        "# format 함수 이용\n",
        "str2 = \"Name: {0}\\nPhone: {1}\\nAge: {2}\".format(kim[0],kim[1],kim[2]) # format 함수(\"{}\".format())를 이용하여 3개 이상의 값(문자열, 문자열, 정수)을 순서에 맞게 인덱싱하여 넣는다.\n",
        "\n",
        "# f이용\n",
        "str3 = \"Name: Hansol\\nPhone: 010-4629-1615\\nAge: 35\" # f문자열 포멧팅을 출력하기 위해 변수 str3를 \"Name: Hansol\\nPhone: 010-4629-1615\\nAge: 35\" 로 정의한다.\n",
        "\n",
        "print(str1) # 변수 str1를 출력한다.\n",
        "print(str2) # 변수 str2를 출력한다.\n",
        "print(f'{str3}') # f문자열 포멧팅(f'{}')을 이용하여 변수 str3를 출력한다."
      ],
      "execution_count": null,
      "outputs": [
        {
          "output_type": "stream",
          "text": [
            "Name: Hansol\n",
            "Phone: 010-4629-1615\n",
            "Age: 35\n",
            "Name: Hansol\n",
            "Phone: 010-4629-1615\n",
            "Age: 35\n",
            "Name: Hansol\n",
            "Phone: 010-4629-1615\n",
            "Age: 35\n"
          ],
          "name": "stdout"
        }
      ]
    },
    {
      "cell_type": "markdown",
      "metadata": {
        "id": "oGrHBtV_9QoZ"
      },
      "source": [
        "#**7번**\n",
        "다음 코드를 보고 실행 결과를 예측하고 그렇게 나오는 이유를 설명하세요."
      ]
    },
    {
      "cell_type": "code",
      "metadata": {
        "id": "oKotPkHd9QoZ",
        "colab": {
          "base_uri": "https://localhost:8080/"
        },
        "outputId": "756d31eb-9332-45b8-9c42-1d644ba7af18"
      },
      "source": [
        "a = b = [1, 2, 3] # 정수를 원소로 가지는 list a와 list b는 가리키는 주소가 같다.\n",
        "a[1] = 4 # list a 첫밴째 문자를 인덱싱하는 코드이다.\n",
        "print(b) # list b를 출력한다.\n",
        "\n",
        "# 이유는?  # 위의 코드에 의해 a = [1, 4, 3] 이고, list a와 list b는 같은 주소이므로 list b는 [1, 4, 3] 이 된다. 따라서 a list와 b list 값이 같다는 걸 알 수 있다.   "
      ],
      "execution_count": null,
      "outputs": [
        {
          "output_type": "stream",
          "text": [
            "[1, 4, 3]\n"
          ],
          "name": "stdout"
        }
      ]
    },
    {
      "cell_type": "markdown",
      "metadata": {
        "id": "fLChkSFc9QoZ"
      },
      "source": [
        "**수강 및 과제 수행 소감을 적어주세요**"
      ]
    },
    {
      "cell_type": "code",
      "metadata": {
        "id": "46V0s_Dz9QoZ"
      },
      "source": [
        "교수님의 섬세한 강의와 의미있는 과제 활동을 내어주어 감사드립니다.\n",
        "쉬운것이라도 넘어가지 않고 집고 넘어가며 직접 예시를 보여주며 이해시키려는 모습에 저도 같이 귀기울이며 집중하게 되었던 것 같았습니다.\n",
        "캠을 키며 열중하시는 모습이 마치 바로 앞에서 소통하는 느낌이 들었습니다. 덕분에 바로바로 피드백을 받는 느낌이 들어 정말 좋았습니다.\n",
        "감사합니다^^"
      ],
      "execution_count": null,
      "outputs": []
    }
  ]
}